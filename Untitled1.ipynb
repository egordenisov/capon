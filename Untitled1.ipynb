{
  "nbformat": 4,
  "nbformat_minor": 0,
  "metadata": {
    "colab": {
      "name": "Untitled1.ipynb",
      "provenance": []
    },
    "kernelspec": {
      "name": "python3",
      "display_name": "Python 3"
    }
  },
  "cells": [
    {
      "cell_type": "code",
      "metadata": {
        "id": "szszcy05UMXF"
      },
      "source": [
        "import numpy as np\r\n",
        "import matplotlib.pyplot as plt\r\n",
        "from matplotlib.image import imread\r\n",
        "from mpl_toolkits import mplot3d\r\n",
        "from matplotlib import gridspec\r\n",
        "import seaborn as sns\r\n",
        "import pandas as pd\r\n",
        "from mpl_toolkits.mplot3d import axes3d "
      ],
      "execution_count": 1,
      "outputs": []
    },
    {
      "cell_type": "code",
      "metadata": {
        "id": "TW130zo9Ze-c"
      },
      "source": [
        "Y = np.load(\"capon.npy\")\r\n",
        "plt.plot(Y[0, :].real)\r\n",
        "plt.plot(Y[200, :].real, 'o')\r\n",
        "plt.show()\r\n"
      ],
      "execution_count": null,
      "outputs": []
    }
  ]
}