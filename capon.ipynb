{
  "nbformat": 4,
  "nbformat_minor": 0,
  "metadata": {
    "colab": {
      "name": "Untitled2.ipynb",
      "provenance": [],
      "collapsed_sections": [],
      "authorship_tag": "ABX9TyMKqsQrLaZ5xYbJ9ddZZDjq",
      "include_colab_link": true
    },
    "kernelspec": {
      "name": "python3",
      "display_name": "Python 3"
    }
  },
  "cells": [
    {
      "cell_type": "markdown",
      "metadata": {
        "id": "view-in-github",
        "colab_type": "text"
      },
      "source": [
        "<a href=\"https://colab.research.google.com/github/egordenisov/capon/blob/main/capon.ipynb\" target=\"_parent\"><img src=\"https://colab.research.google.com/assets/colab-badge.svg\" alt=\"Open In Colab\"/></a>"
      ]
    },
    {
      "cell_type": "code",
      "metadata": {
        "id": "RHweT2cRjISr"
      },
      "source": [
        "import numpy as np\r\n",
        "import matplotlib.pyplot as plt\r\n",
        "from matplotlib.image import imread\r\n",
        "from mpl_toolkits import mplot3d\r\n",
        "from matplotlib import gridspec\r\n",
        "import seaborn as sns\r\n",
        "import pandas as pd\r\n",
        "from mpl_toolkits.mplot3d import axes3d"
      ],
      "execution_count": null,
      "outputs": []
    }
  ]
}